{
 "cells": [
  {
   "cell_type": "markdown",
   "metadata": {},
   "source": [
    "# Body Mass Index"
   ]
  },
  {
   "cell_type": "markdown",
   "metadata": {},
   "source": [
    "Simple exercise to categorize Body Mass Index (BMI) based on weight (KG) and height (CM)"
   ]
  },
  {
   "cell_type": "code",
   "execution_count": 1,
   "metadata": {},
   "outputs": [
    {
     "name": "stdout",
     "output_type": "stream",
     "text": [
      "Enter your weight in KG:\n",
      "70\n",
      "Enter your height in CM:\n",
      "173\n",
      "Your Body Mass Index category is:\n",
      " Normal (healthy weight)\n"
     ]
    }
   ],
   "source": [
    "\"\"\"\n",
    "This is exercise in python basic to count body mass index\n",
    "\n",
    "By Aditio Agung Nugroho\n",
    "\"\"\"\n",
    "\n",
    "try:\n",
    "    raw_input           # Python 2\n",
    "except NameError:\n",
    "    raw_input = input   # Python 3\n",
    "\n",
    "\n",
    "def count_bmi(weight, height):\n",
    "    \"\"\"Count Body Mass Index (BMI) with simple formula\n",
    "\n",
    "        :param weight: Weight of the person\n",
    "        :param height: Height of the person\n",
    "        :return: BMI of the person\n",
    "\n",
    "        Examples:\n",
    "        >>> count_bmi(71, 173)\n",
    "        23.7228\n",
    "\n",
    "        >>> count_bmi(65, 170)\n",
    "        22.4913\n",
    "    \"\"\"\n",
    "    height_in_meter = height / 100\n",
    "    bmi = weight / height_in_meter ** 2\n",
    "    bmi_round = round(bmi, 4)\n",
    "    return bmi_round\n",
    "\n",
    "\n",
    "def bmi_category(bmi):\n",
    "    \"\"\"Mapping a BMI result as a category\n",
    "\n",
    "        :param bmi: BMI of the person\n",
    "        :return: BMI category of the person\n",
    "\n",
    "        Examples:\n",
    "        >>> bmi_category(14)\n",
    "        'Very severely underweight'\n",
    "\n",
    "        >>> bmi_category(19)\n",
    "        'Normal (healthy weight)'\n",
    "    \"\"\"\n",
    "    if bmi < 15:\n",
    "        return 'Very severely underweight'\n",
    "    elif 15 <= bmi < 16:\n",
    "        return 'Severely underweight'\n",
    "    elif 16 <= bmi < 18.5:\n",
    "        return 'Underweight'\n",
    "    elif 18.5 <= bmi < 25:\n",
    "        return 'Normal (healthy weight)'\n",
    "    elif 25 <= bmi < 30:\n",
    "        return 'Overweight'\n",
    "    elif 30 <= bmi < 35:\n",
    "        return 'Moderately obese'\n",
    "    elif 35 <= bmi < 40:\n",
    "        return 'Severely obese'\n",
    "    else:\n",
    "        return 'Very severely obese'\n",
    "\n",
    "\n",
    "if __name__ == '__main__':\n",
    "    weight_input = raw_input('Enter your weight in KG:\\n')\n",
    "    weight_data = int(weight_input)\n",
    "    height_input = raw_input('Enter your height in CM:\\n')\n",
    "    height_data = int(height_input)\n",
    "    bmi_data = count_bmi(weight_data, height_data)\n",
    "    category = bmi_category(bmi_data)\n",
    "    print('Your Body Mass Index category is:\\n', category)"
   ]
  },
  {
   "cell_type": "code",
   "execution_count": null,
   "metadata": {},
   "outputs": [],
   "source": []
  }
 ],
 "metadata": {
  "kernelspec": {
   "display_name": "Python 3",
   "language": "python",
   "name": "python3"
  },
  "language_info": {
   "codemirror_mode": {
    "name": "ipython",
    "version": 3
   },
   "file_extension": ".py",
   "mimetype": "text/x-python",
   "name": "python",
   "nbconvert_exporter": "python",
   "pygments_lexer": "ipython3",
   "version": "3.5.6"
  }
 },
 "nbformat": 4,
 "nbformat_minor": 2
}
